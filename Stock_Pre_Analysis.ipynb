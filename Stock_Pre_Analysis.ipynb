{
 "cells": [
  {
   "cell_type": "code",
   "execution_count": null,
   "metadata": {},
   "outputs": [],
   "source": [
    "import pandas as pd\n",
    "import numpy as np\n",
    "import matplotlib.pyplot as plt\n",
    "from sklearn.preprocessing import MinMaxScaler\n",
    "from sklearn.model_selection import train_test_split\n",
    "from tensorflow.keras.models import Sequential\n",
    "from tensorflow.keras.layers import LSTM, Dense\n",
    "import os, csv, sys"
   ]
  },
  {
   "cell_type": "code",
   "execution_count": null,
   "metadata": {},
   "outputs": [],
   "source": [
    "# Import data \n",
    "path = 'C:/Users/massw/OneDrive/Bureau/Programmation/Stock_Pred'\n",
    "file_name = 'DASSAULTSYSTEMES_2024-02-07.txt'\n",
    "file = os.path.join(path,file_name)\n",
    "stock_name = file_name.split('_')[0]\n",
    "df = pd.read_csv(file, delimiter='\\t')\n",
    "df.reset_index(drop=True, inplace=True)\n",
    "data = df[['clot']]"
   ]
  },
  {
   "cell_type": "markdown",
   "metadata": {},
   "source": [
    "Normaliser les données entre 0 et 1"
   ]
  },
  {
   "cell_type": "code",
   "execution_count": null,
   "metadata": {},
   "outputs": [],
   "source": [
    "scaler = MinMaxScaler(feature_range=(0,1))\n",
    "scaled_data = scaler.fit_transform(data.values)"
   ]
  },
  {
   "cell_type": "markdown",
   "metadata": {},
   "source": [
    "Création séquences temprorelles pour le train du modèle LSTM"
   ]
  },
  {
   "cell_type": "code",
   "execution_count": null,
   "metadata": {},
   "outputs": [],
   "source": [
    "def create_sequences(data, seq_length):\n",
    "    X, y = [], []\n",
    "    for i in range(len(data)-seq_length):\n",
    "        X.append(data[i:i+seq_length])\n",
    "        y.append(data[i+seq_length])\n",
    "    return np.array(X), np.array(y)"
   ]
  },
  {
   "cell_type": "code",
   "execution_count": null,
   "metadata": {},
   "outputs": [],
   "source": [
    "# Longueur de la séquence temporelle\n",
    "sequence_length = 10\n",
    "split_r = 0.8\n",
    "# Création séquence temporelles\n",
    "X_seq, y_seq = create_sequences(scaled_data, sequence_length)"
   ]
  },
  {
   "cell_type": "code",
   "execution_count": null,
   "metadata": {},
   "outputs": [],
   "source": [
    "# Divide train and test set\n",
    "split = int(split_r*len(X))\n",
    "X_train, X_test = X[:split], X[split:]\n",
    "y_train, y_test = y[:split], y[split:]\n",
    "print(X_train.shape)\n",
    "print(X_test.shape)\n",
    "print(y_train.shape)\n",
    "print(y_test.shape)"
   ]
  },
  {
   "cell_type": "code",
   "execution_count": null,
   "metadata": {},
   "outputs": [],
   "source": [
    "# Create LSTM Model\n",
    "model = Sequential([LSTM(units=50,return_sequences=True,input_shape=(X_train.shape[1],1)),\n",
    "LSTM(units=50, return_sequences=False),Dense(units=1)])\n",
    "model.compile(optimizer='adam',loss='mse')"
   ]
  },
  {
   "cell_type": "code",
   "execution_count": null,
   "metadata": {},
   "outputs": [],
   "source": [
    "# Train model\n",
    "model.fit(X_train, y_train, epochs=10, batch_size=32)"
   ]
  },
  {
   "cell_type": "code",
   "execution_count": null,
   "metadata": {},
   "outputs": [],
   "source": [
    "# Denormalisation of predictions and real values\n",
    "predictions = model.predict(X_test)\n",
    "predictions = scaler.inverse_transform(predictions)\n",
    "\n",
    "print(data.index[split+sequence_length:].shape)\n",
    "print(predictions.shape)"
   ]
  },
  {
   "cell_type": "code",
   "execution_count": null,
   "metadata": {},
   "outputs": [],
   "source": [
    "# Data visualization\n",
    "plt.figure(figsize=(14,6))\n",
    "\"\"\" plt.plot(data.index[split+sequence_length:], data['clot'][split+sequence_length:], label='Actual')\n",
    "plt.plot(data.index[split+sequence_length:], predictions, label='Predicted') \"\"\"\n",
    "# Sélectionner un sous-ensemble spécifique du DataFrame\n",
    "subset_data = data['clot'].iloc[split + sequence_length:split + sequence_length + 257]\n",
    "\n",
    "# Plot avec le sous-ensemble sélectionné\n",
    "plt.plot(subset_data.index, subset_data.values, label='Actual')\n",
    "plt.plot(data.index[split + sequence_length:split + sequence_length + len(predictions)], predictions, label='Predicted')\n",
    "\n",
    "plt.title(f'{stock_name} Prediction with LSTM model')\n",
    "plt.xlabel('Time')\n",
    "plt.ylabel('Stock Closing Price')\n",
    "plt.legend()\n",
    "plt.show()"
   ]
  },
  {
   "cell_type": "code",
   "execution_count": null,
   "metadata": {},
   "outputs": [],
   "source": [
    "def invest_strat(actual, predicted, invest_amount):\n",
    "    diff = np.diff(predicted, axis=0)\n",
    "    buy_signal = np.where(diff > 0, 1, 0)\n",
    "    sell_signal = np.where(diff < 0, 1, 0)\n",
    "    buy_price = actual[:-1] * buy_signal\n",
    "    sell_price = actual[1:] * sell_signal\n",
    "    buy_count = np.count_nonzero(buy_price)\n",
    "    sell_count = np.count_nonzero(sell_price)\n",
    "    if buy_count == 0 or sell_count == 0 :\n",
    "        return 0\n",
    "    total_buy_amount = invest_amount * buy_count\n",
    "    total_sell_amount = invest_amount * np.sum(sell_price)"
   ]
  }
 ],
 "metadata": {
  "language_info": {
   "name": "python"
  }
 },
 "nbformat": 4,
 "nbformat_minor": 2
}
